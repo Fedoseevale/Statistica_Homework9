{
  "nbformat": 4,
  "nbformat_minor": 0,
  "metadata": {
    "colab": {
      "provenance": [],
      "authorship_tag": "ABX9TyO4jyPL5gHN+OcILKUa9oDj",
      "include_colab_link": true
    },
    "kernelspec": {
      "name": "python3",
      "display_name": "Python 3"
    },
    "language_info": {
      "name": "python"
    }
  },
  "cells": [
    {
      "cell_type": "markdown",
      "metadata": {
        "id": "view-in-github",
        "colab_type": "text"
      },
      "source": [
        "<a href=\"https://colab.research.google.com/github/Fedoseevale/Statistica_Homework9/blob/main/Task2.ipynb\" target=\"_parent\"><img src=\"https://colab.research.google.com/assets/colab-badge.svg\" alt=\"Open In Colab\"/></a>"
      ]
    },
    {
      "cell_type": "markdown",
      "source": [
        "**Задача 2**\n",
        "\n",
        "Посчитать коэффициент линейной регрессии при заработной плате (zp), используя градиентный спуск (без intercept)."
      ],
      "metadata": {
        "id": "9WevtK_ViF1P"
      }
    },
    {
      "cell_type": "code",
      "execution_count": 18,
      "metadata": {
        "id": "C6f8L4F7iCae"
      },
      "outputs": [],
      "source": [
        "import numpy as np"
      ]
    },
    {
      "cell_type": "code",
      "source": [
        "zp = np.array([35, 45, 190, 200, 40, 70, 54, 150, 120, 110])"
      ],
      "metadata": {
        "id": "dkGL49jHmKFv"
      },
      "execution_count": 19,
      "outputs": []
    },
    {
      "cell_type": "code",
      "source": [
        "zp"
      ],
      "metadata": {
        "colab": {
          "base_uri": "https://localhost:8080/"
        },
        "id": "RztBO2HimQod",
        "outputId": "c4b0031d-2af6-4b76-b62d-52b2c289ef3b"
      },
      "execution_count": 20,
      "outputs": [
        {
          "output_type": "execute_result",
          "data": {
            "text/plain": [
              "array([ 35,  45, 190, 200,  40,  70,  54, 150, 120, 110])"
            ]
          },
          "metadata": {},
          "execution_count": 20
        }
      ]
    },
    {
      "cell_type": "code",
      "source": [
        "ks = np.array([401, 574, 874, 919, 459, 739, 653, 902, 746, 832])"
      ],
      "metadata": {
        "id": "40RUue9umdur"
      },
      "execution_count": 21,
      "outputs": []
    },
    {
      "cell_type": "code",
      "source": [
        "ks"
      ],
      "metadata": {
        "colab": {
          "base_uri": "https://localhost:8080/"
        },
        "id": "tlLqURhYmkd1",
        "outputId": "c5a18939-5e19-4ba8-c5aa-7eab1b69f5a2"
      },
      "execution_count": 22,
      "outputs": [
        {
          "output_type": "execute_result",
          "data": {
            "text/plain": [
              "array([401, 574, 874, 919, 459, 739, 653, 902, 746, 832])"
            ]
          },
          "metadata": {},
          "execution_count": 22
        }
      ]
    },
    {
      "cell_type": "code",
      "source": [
        "alpha = 1e-6"
      ],
      "metadata": {
        "id": "K6l6pmREmnCW"
      },
      "execution_count": 39,
      "outputs": []
    },
    {
      "cell_type": "code",
      "source": [
        "B1 = 0.1"
      ],
      "metadata": {
        "id": "rLeXJbnImzXz"
      },
      "execution_count": 37,
      "outputs": []
    },
    {
      "cell_type": "code",
      "source": [
        "n = 10"
      ],
      "metadata": {
        "id": "rbUGFeH-m5gB"
      },
      "execution_count": 38,
      "outputs": []
    },
    {
      "cell_type": "code",
      "source": [
        "for i in range (3000):\n",
        "  B1 -= alpha * (2/n) * np.sum ((B1 * zp - ks) * zp)\n",
        "  if i % 500 == 0:\n",
        "    print ('B1 = {}'.format(B1))"
      ],
      "metadata": {
        "colab": {
          "base_uri": "https://localhost:8080/"
        },
        "id": "Jcuz3Owvm9Fe",
        "outputId": "6fb9932d-eefe-4ac0-8357-10aa5fe78a9c"
      },
      "execution_count": 40,
      "outputs": [
        {
          "output_type": "stream",
          "name": "stdout",
          "text": [
            "B1 = 0.25952808\n",
            "B1 = 5.889815595583751\n",
            "B1 = 5.8898204201285544\n",
            "B1 = 5.889820420132673\n",
            "B1 = 5.889820420132673\n",
            "B1 = 5.889820420132673\n"
          ]
        }
      ]
    }
  ]
}