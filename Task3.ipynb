{
  "cells": [
    {
      "cell_type": "markdown",
      "metadata": {
        "id": "view-in-github",
        "colab_type": "text"
      },
      "source": [
        "<a href=\"https://colab.research.google.com/github/Fedoseevale/Statistica_Homework9/blob/main/Task3.ipynb\" target=\"_parent\"><img src=\"https://colab.research.google.com/assets/colab-badge.svg\" alt=\"Open In Colab\"/></a>"
      ]
    },
    {
      "cell_type": "markdown",
      "source": [
        "\n",
        "\n",
        "**Задача 3**\n",
        "\n",
        "Произвести вычисления как в пункте 2, но с вычислением intercept. Учесть, что изменение коэффициентов должно производиться на каждом шаге одновременно (то есть изменение одного коэффициента не должно влиять на изменение другого во время одной итерации).\n",
        "\n"
      ],
      "metadata": {
        "id": "TpIT9tBlB3zY"
      }
    },
    {
      "cell_type": "code",
      "execution_count": null,
      "metadata": {
        "id": "5NNAQzuanX2x"
      },
      "outputs": [],
      "source": [
        "import numpy as np"
      ]
    },
    {
      "cell_type": "code",
      "execution_count": 70,
      "metadata": {
        "id": "6KGkciOwndOY"
      },
      "outputs": [],
      "source": [
        "zp = np.array([35, 45, 190, 200, 40, 70, 54, 150, 120, 110])"
      ]
    },
    {
      "cell_type": "code",
      "execution_count": 71,
      "metadata": {
        "colab": {
          "base_uri": "https://localhost:8080/"
        },
        "id": "Hp-y6LFtn5CT",
        "outputId": "4ece8ea8-3417-47ac-d47f-ec1ed273f7f4"
      },
      "outputs": [
        {
          "output_type": "execute_result",
          "data": {
            "text/plain": [
              "array([ 35,  45, 190, 200,  40,  70,  54, 150, 120, 110])"
            ]
          },
          "metadata": {},
          "execution_count": 71
        }
      ],
      "source": [
        "zp"
      ]
    },
    {
      "cell_type": "code",
      "execution_count": 72,
      "metadata": {
        "id": "tXcIH3qGn7LP"
      },
      "outputs": [],
      "source": [
        "ks = np.array([401, 574, 874, 919, 459, 739, 653, 902, 746, 832])"
      ]
    },
    {
      "cell_type": "code",
      "execution_count": 73,
      "metadata": {
        "colab": {
          "base_uri": "https://localhost:8080/"
        },
        "id": "Vbdgdtp7oLnP",
        "outputId": "7abf75a8-e3fb-4a0c-e169-26852f3ab95f"
      },
      "outputs": [
        {
          "output_type": "execute_result",
          "data": {
            "text/plain": [
              "array([401, 574, 874, 919, 459, 739, 653, 902, 746, 832])"
            ]
          },
          "metadata": {},
          "execution_count": 73
        }
      ],
      "source": [
        "ks"
      ]
    },
    {
      "cell_type": "markdown",
      "source": [
        "Ниже выполняется поиск производной как по основному коэффициенту B1, так и по интерсепту B0. В качестве переменных в данном случае выступают не 'zp' и 'ks', а 'x' и 'y'."
      ],
      "metadata": {
        "id": "70hN5eNw9zPN"
      }
    },
    {
      "cell_type": "code",
      "execution_count": null,
      "metadata": {
        "id": "FQFnBMNvsLIR"
      },
      "outputs": [],
      "source": [
        "n = 8"
      ]
    },
    {
      "cell_type": "code",
      "execution_count": null,
      "metadata": {
        "id": "d_FpX_FZoTdf"
      },
      "outputs": [],
      "source": [
        "mse = np.sum((B1*x - y)**2) / n"
      ]
    },
    {
      "cell_type": "code",
      "execution_count": 74,
      "metadata": {
        "id": "8nIIv09ksN_M"
      },
      "outputs": [],
      "source": [
        "from sympy import *"
      ]
    },
    {
      "cell_type": "code",
      "execution_count": 78,
      "metadata": {
        "id": "-qI9aYQguKx2"
      },
      "outputs": [],
      "source": [
        "B1 = Symbol('B1')"
      ]
    },
    {
      "cell_type": "code",
      "execution_count": 75,
      "metadata": {
        "id": "SJWkOhbHwUFl"
      },
      "outputs": [],
      "source": [
        "x = Symbol('x')"
      ]
    },
    {
      "cell_type": "code",
      "execution_count": 76,
      "metadata": {
        "id": "So6EQOD5wcpj"
      },
      "outputs": [],
      "source": [
        "y = Symbol('y')"
      ]
    },
    {
      "cell_type": "code",
      "execution_count": 77,
      "metadata": {
        "id": "3f8xb5G8wg5y"
      },
      "outputs": [],
      "source": [
        "n = Symbol('n')"
      ]
    },
    {
      "cell_type": "code",
      "execution_count": null,
      "metadata": {
        "id": "vQB3NfsSwqlH"
      },
      "outputs": [],
      "source": [
        "mse = np.sum((B1*x - y)**2) / n"
      ]
    },
    {
      "cell_type": "code",
      "execution_count": 83,
      "metadata": {
        "colab": {
          "base_uri": "https://localhost:8080/",
          "height": 56
        },
        "id": "59TqLxhQvUVf",
        "outputId": "e758a3fa-004e-4efc-a8e8-e258b1d5215a"
      },
      "outputs": [
        {
          "output_type": "execute_result",
          "data": {
            "text/plain": [
              "(B1*x - y)**2/n"
            ],
            "text/latex": "$\\displaystyle \\frac{\\left(B_{1} x - y\\right)^{2}}{n}$"
          },
          "metadata": {},
          "execution_count": 83
        }
      ],
      "source": [
        "mse"
      ]
    },
    {
      "cell_type": "code",
      "execution_count": 84,
      "metadata": {
        "id": "vMg1Dp-HuqvX"
      },
      "outputs": [],
      "source": [
        "mse_prime = mse.diff(B1)"
      ]
    },
    {
      "cell_type": "code",
      "execution_count": 85,
      "metadata": {
        "colab": {
          "base_uri": "https://localhost:8080/"
        },
        "id": "CaUBpRvsudD8",
        "outputId": "1dfb7d35-c3bc-4c03-be3b-836540ada428"
      },
      "outputs": [
        {
          "output_type": "stream",
          "name": "stdout",
          "text": [
            "2*x*(B1*x - y)/n\n"
          ]
        }
      ],
      "source": [
        "print(mse_prime)"
      ]
    },
    {
      "cell_type": "code",
      "execution_count": 79,
      "metadata": {
        "id": "JaSrkKbQ4EQ2"
      },
      "outputs": [],
      "source": [
        "B0 = Symbol('B0')"
      ]
    },
    {
      "cell_type": "code",
      "execution_count": 86,
      "metadata": {
        "id": "8RK06cyY3z3Z"
      },
      "outputs": [],
      "source": [
        "mse_2 = np.sum(((B0 + B1*x) - y)**2) / n"
      ]
    },
    {
      "cell_type": "code",
      "execution_count": 87,
      "metadata": {
        "id": "GD0pJpfH68CN"
      },
      "outputs": [],
      "source": [
        "mse_2_prime = mse_2.diff(B0)"
      ]
    },
    {
      "cell_type": "code",
      "source": [
        "print(mse_2_prime)"
      ],
      "metadata": {
        "colab": {
          "base_uri": "https://localhost:8080/"
        },
        "id": "vjNbbPrK_Z38",
        "outputId": "e4a56a9a-3bb8-4593-b286-29f6abda6862"
      },
      "execution_count": 88,
      "outputs": [
        {
          "output_type": "stream",
          "name": "stdout",
          "text": [
            "(2*B0 + 2*B1*x - 2*y)/n\n"
          ]
        }
      ]
    },
    {
      "cell_type": "markdown",
      "source": [
        "Ниже реализуется метод градиентного спуска"
      ],
      "metadata": {
        "id": "pFSa7kRr-c2C"
      }
    },
    {
      "cell_type": "code",
      "source": [
        "alpha = 1e-6"
      ],
      "metadata": {
        "id": "8IfqNocQ-L7Z"
      },
      "execution_count": 89,
      "outputs": []
    },
    {
      "cell_type": "code",
      "source": [
        "B1 = 0.1"
      ],
      "metadata": {
        "id": "MqZywOsY-SLd"
      },
      "execution_count": 90,
      "outputs": []
    },
    {
      "cell_type": "code",
      "source": [
        "B0 = 0.1"
      ],
      "metadata": {
        "id": "7-WIrstH-S0R"
      },
      "execution_count": 91,
      "outputs": []
    },
    {
      "cell_type": "code",
      "source": [
        "n = 10"
      ],
      "metadata": {
        "id": "xtpLQ0pq-U8Z"
      },
      "execution_count": 92,
      "outputs": []
    },
    {
      "cell_type": "code",
      "source": [
        "for i in range (3000):\n",
        "  B1 -= alpha * (2/n) * np.sum ((B1 * zp - ks) * zp)\n",
        "  B0 -= alpha * (2/n) * np.sum (B0 + B1*zp - ks)\n",
        "  if i % 500 == 0:\n",
        "    print ('B1 = {}, B0 = {}'.format(B1, B0))"
      ],
      "metadata": {
        "colab": {
          "base_uri": "https://localhost:8080/"
        },
        "id": "QeUDpFcl-XUj",
        "outputId": "0e56f2ce-b461-4a7e-9a65-4cd0d56e1e83"
      },
      "execution_count": 93,
      "outputs": [
        {
          "output_type": "stream",
          "name": "stdout",
          "text": [
            "B1 = 0.25952808, B0 = 0.10136696770537601\n",
            "B1 = 5.889815595583751, B0 = 0.254143119722551\n",
            "B1 = 5.8898204201285544, B0 = 0.366505142505451\n",
            "B1 = 5.889820420132673, B0 = 0.47875482481593623\n",
            "B1 = 5.889820420132673, B0 = 0.5908923134380829\n",
            "B1 = 5.889820420132673, B0 = 0.7029177205096391\n"
          ]
        }
      ]
    }
  ],
  "metadata": {
    "colab": {
      "provenance": [],
      "authorship_tag": "ABX9TyMfuuMsTs1b4NNdeQGPFKK6",
      "include_colab_link": true
    },
    "kernelspec": {
      "display_name": "Python 3",
      "name": "python3"
    },
    "language_info": {
      "name": "python"
    }
  },
  "nbformat": 4,
  "nbformat_minor": 0
}